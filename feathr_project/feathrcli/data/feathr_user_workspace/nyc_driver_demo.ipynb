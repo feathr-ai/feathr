{
 "cells": [
  {
   "cell_type": "markdown",
   "metadata": {},
   "source": [
    "# Feathr Feature Store on Azure Demo Notebook\n",
    "\n",
    "This notebook illustrates the use of Feature Store to create a model that predicts NYC Taxi fares. It includes these steps:\n",
    "\n",
    "- Compute and write features.\n",
    "- Train a model using these features to predict fares.\n",
    "- Evaluate that model on a new batch of data using existing features, saved to Feature Store.\n",
    "\n",
    "\n",
    "Note that this is from a real world dataset which demonstrate the power of `Feathr` to deal with a real world use cases. The feature flow is as below:\n",
    "![Feature Flow](https://github.com/linkedin/feathr/blob/main/docs/images/feature_flow.png?raw=true)"
   ]
  },
  {
   "cell_type": "markdown",
   "metadata": {},
   "source": [
    "First, let's explore the dataset:\n"
   ]
  },
  {
   "cell_type": "code",
   "execution_count": null,
   "metadata": {},
   "outputs": [],
   "source": [
    "import pandas as pd\n",
    "import json\n",
    "pd.read_csv('mockdata/feathrazuretest3fs@feathrazuretest3storage.dfs.core.windows.net/demo_data/green_tripdata_2020-04.csv')"
   ]
  },
  {
   "cell_type": "markdown",
   "metadata": {},
   "source": [
    "Basically we want to predict the fares for each driver. "
   ]
  },
  {
   "cell_type": "code",
   "execution_count": null,
   "metadata": {},
   "outputs": [],
   "source": [
    "# Install feathr if haven't installed\n",
    "! pip install -U feathr"
   ]
  },
  {
   "cell_type": "code",
   "execution_count": null,
   "metadata": {},
   "outputs": [],
   "source": [
    "! pip install scikit-learn"
   ]
  },
  {
   "cell_type": "markdown",
   "metadata": {},
   "source": [
    "# Feature Engineering with Feathr:\n",
    "- Duration of trip\n",
    "- Feature Engineering: Instead of using the raw datetime like `2021-01-01 00:15:56`, we want to feature engineering with customzied features, for exmaple we want to use the days of the week, the days of the months, etc. as the features."
   ]
  },
  {
   "cell_type": "markdown",
   "metadata": {},
   "source": [
    "Doing those transformations with Feathr is very straightforward.  "
   ]
  },
  {
   "cell_type": "code",
   "execution_count": null,
   "metadata": {},
   "outputs": [],
   "source": [
    "!pygmentize \"features/non_agg_features.py\""
   ]
  },
  {
   "cell_type": "code",
   "execution_count": null,
   "metadata": {},
   "outputs": [],
   "source": [
    "!pygmentize \"features/agg_features.py\""
   ]
  },
  {
   "cell_type": "code",
   "execution_count": null,
   "metadata": {},
   "outputs": [],
   "source": [
    "!pygmentize \"features/request_features.py\""
   ]
  },
  {
   "cell_type": "markdown",
   "metadata": {},
   "source": [
    "Setup neccessary environment variables first."
   ]
  },
  {
   "cell_type": "code",
   "execution_count": null,
   "metadata": {},
   "outputs": [],
   "source": [
    "import os\n",
    "os.environ['REDIS_PASSWORD'] = 'Li7Nn63iNB0x731VTnnz2Vr29WYJHx7JlAzCaH9lbHw='\n",
    "os.environ['AZURE_CLIENT_ID'] = \"b40e49c0-75c7-4959-ad25-896118cd79e8\"\n",
    "os.environ['AZURE_TENANT_ID'] = '72f988bf-86f1-41af-91ab-2d7cd011db47'\n",
    "os.environ['AZURE_CLIENT_SECRET'] = 'kAB5ps6yvo_f08n-4Av~.IDwHFL_xl_63I'\n",
    "os.environ['AZURE_PURVIEW_NAME'] = 'feathrazuretest3-purview1'"
   ]
  },
  {
   "cell_type": "markdown",
   "metadata": {},
   "source": [
    "Then we will initialize a feathr client:"
   ]
  },
  {
   "cell_type": "code",
   "execution_count": null,
   "metadata": {},
   "outputs": [],
   "source": [
    "from feathr import FeathrClient\n",
    "client = FeathrClient()"
   ]
  },
  {
   "cell_type": "code",
   "execution_count": null,
   "metadata": {},
   "outputs": [],
   "source": [
    "# We can register the features to a feature registry with Purview (optional):\n",
    "client.register_features()"
   ]
  },
  {
   "cell_type": "code",
   "execution_count": null,
   "metadata": {},
   "outputs": [],
   "source": [
    "import os\n",
    "from datetime import datetime, timedelta \n",
    " \n",
    "from feathr.query_feature_list import FeatureQuery\n",
    "from feathr.settings import ObservationSettings \n",
    "from feathr.typed_key import TypedKey \n",
    "from feathr.dtype import ValueType\n",
    "\n",
    "location_id = TypedKey(key_column=\"DOLocationID\",\n",
    "                key_column_type=ValueType.INT32,\n",
    "                description=\"location id in NYC\",\n",
    "                full_name=\"nyc_taxi.location_id\")\n",
    "feature_query = FeatureQuery(feature_list=[ \"f_trip_distance\", \"f_is_long_trip_distance\", \"f_day_of_week\", \n",
    "                        \"f_trip_time_duration\", \"f_location_avg_fare\", \"f_trip_time_distance\"], key=location_id)\n",
    "settings = ObservationSettings(\n",
    "    observation_path=\"abfss://feathrazuretest3fs@feathrazuretest3storage.dfs.core.windows.net/demo_data/green_tripdata_2020-04.csv\",\n",
    "    event_timestamp_column=\"lpep_dropoff_datetime\",\n",
    "    timestamp_format=\"yyyy-MM-dd HH:mm:ss\")\n",
    "\n",
    "client.get_offline_features(observation_settings=settings,\n",
    "    feature_query=feature_query,\n",
    "    output_path=\"abfss://feathrazuretest3fs@feathrazuretest3storage.dfs.core.windows.net/demo_data/output.avro\")"
   ]
  },
  {
   "cell_type": "markdown",
   "metadata": {},
   "source": [
    "The result is also availble in the cloud"
   ]
  },
  {
   "cell_type": "markdown",
   "metadata": {},
   "source": [
    "After getting all the features, let's train a model:"
   ]
  },
  {
   "cell_type": "code",
   "execution_count": null,
   "metadata": {},
   "outputs": [],
   "source": [
    "from math import sqrt\n",
    "import tempfile\n",
    "import pandas as pd\n",
    "from sklearn.linear_model import LinearRegression\n",
    "import glob, os\n",
    "from sklearn.metrics import mean_squared_error\n",
    "from sklearn.model_selection import train_test_split  \n",
    "import pandavro as pdx\n",
    "from feathr.job_utils import get_result_df\n",
    "res_url = client.get_job_result_uri(block=True,timeout_sec=500)\n",
    "df_res = get_result_df(client)\n",
    "df_res.sample(10)"
   ]
  },
  {
   "cell_type": "markdown",
   "metadata": {},
   "source": []
  },
  {
   "cell_type": "code",
   "execution_count": null,
   "metadata": {},
   "outputs": [],
   "source": [
    "# remove columns\n",
    "\n",
    "final_df = df_res[['fare_amount', 'passenger_count', \"f_trip_distance\", \"f_is_long_trip_distance\", \"f_day_of_week\" ,\"f_trip_time_duration\", \"f_location_avg_fare\", \"f_trip_time_distance\"]]\n",
    "final_df.fillna(0, inplace=True)\n",
    "final_df['fare_amount'] = final_df['fare_amount'].astype(\"float64\")\n",
    "\n",
    "\n",
    "train_x, test_x, train_y, test_y = train_test_split(final_df.drop([\"fare_amount\"], axis=1),\n",
    "                                                    final_df[\"fare_amount\"],\n",
    "                                                    test_size=0.2,\n",
    "                                                    random_state=42)\n",
    "\n",
    "model = LinearRegression()\n",
    "model.fit(train_x, train_y)\n",
    "\n",
    "y_predict = model.predict(test_x) \n",
    "\n",
    "y_actual = test_y.values.flatten().tolist() \n",
    "rmse = sqrt(mean_squared_error(y_actual, y_predict))\n",
    "\n",
    "sum_actuals = sum_errors = 0\n",
    "\n",
    "for actual_val, predict_val in zip(y_actual, y_predict):\n",
    "    abs_error = actual_val - predict_val\n",
    "    if abs_error < 0:\n",
    "        abs_error = abs_error * -1\n",
    "\n",
    "    sum_errors = sum_errors + abs_error\n",
    "    sum_actuals = sum_actuals + actual_val\n",
    "\n",
    "mean_abs_percent_error = sum_errors / sum_actuals\n",
    "print(\"Model MAPE:\")\n",
    "print(mean_abs_percent_error)\n",
    "print()\n",
    "print(\"Model Accuracy:\")\n",
    "print(1 - mean_abs_percent_error)"
   ]
  },
  {
   "cell_type": "markdown",
   "metadata": {},
   "source": [
    "We now want to push the generated features to the online store:"
   ]
  },
  {
   "cell_type": "code",
   "execution_count": null,
   "metadata": {},
   "outputs": [],
   "source": [
    "from datetime import datetime, timedelta\n",
    "\n",
    "from feathr._materialization_utils import _to_materialization_config\n",
    "from feathr.materialization_settings import MaterializationSettings\n",
    "from feathr.sink import RedisSink\n",
    "\n",
    "redisSink = RedisSink(table_name=\"nycTaxiDemoFeature\")\n",
    "settings = MaterializationSettings(\"nycTaxiTable\",\n",
    "                                    sinks=[redisSink],\n",
    "                                    feature_names=[\"f_location_avg_fare\", \"f_location_max_fare\"])\n",
    "job_res = client.materialize_features(settings=settings)\n",
    "\n",
    "res_url = client.wait_job_to_finish(timeout_sec=300)"
   ]
  },
  {
   "cell_type": "markdown",
   "metadata": {},
   "source": [
    "We can then get the features from the online store (Redis):"
   ]
  },
  {
   "cell_type": "code",
   "execution_count": null,
   "metadata": {},
   "outputs": [],
   "source": [
    "client.get_online_features(\"nycTaxiDemoFeature\", \"265\", ['f_location_avg_fare', 'f_location_max_fare'])\n"
   ]
  },
  {
   "cell_type": "code",
   "execution_count": null,
   "metadata": {},
   "outputs": [],
   "source": [
    "client.multi_get_online_features(\"nycTaxiDemoFeature\", [\"239\", \"265\"], ['f_location_avg_fare', 'f_location_max_fare'])"
   ]
  },
  {
   "cell_type": "code",
   "execution_count": null,
   "metadata": {},
   "outputs": [],
   "source": [
    "client.list_registered_features(project_name=\"frame_getting_started\")"
   ]
  }
 ],
 "metadata": {
  "interpreter": {
   "hash": "830c16c5b424e7ff512f67d4056b67cea1a756a7ad6a92c98b9e2b95c5e484ae"
  },
  "kernelspec": {
   "display_name": "Python 3",
   "language": "python",
   "name": "python3"
  },
  "language_info": {
   "codemirror_mode": {
    "name": "ipython",
    "version": 3
   },
   "file_extension": ".py",
   "mimetype": "text/x-python",
   "name": "python",
   "nbconvert_exporter": "python",
   "pygments_lexer": "ipython3",
   "version": "3.8.5"
  }
 },
 "nbformat": 4,
 "nbformat_minor": 2
}
