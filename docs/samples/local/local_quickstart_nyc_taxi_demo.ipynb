{
 "cells": [
  {
   "cell_type": "markdown",
   "metadata": {},
   "source": [
    "# Feathr Local Spark Quickstart - NYC Taxi Demo\n",
    "This notebook demonstrates how to use Feathr to train a model on a local Spark cluster. We will use the NYC Taxi dataset to predict the tip amount for a taxi ride. The dataset is available on [Kaggle](https://www.kaggle.com/c/new-york-city-taxi-fare-prediction/data)."
   ]
  },
  {
   "cell_type": "markdown",
   "metadata": {},
   "source": [
    "## 1. Install Feathr and Necessary Dependancies\n",
    "\n",
    "Install feathr and necessary packages by running `pip install feathr[notebook]` if you haven't installed them already."
   ]
  },
  {
   "cell_type": "code",
   "execution_count": 2,
   "metadata": {},
   "outputs": [
    {
     "name": "stdout",
     "output_type": "stream",
     "text": [
      "Collecting feathr\n",
      "  Using cached feathr-0.9.0-py3-none-any.whl (112 kB)\n",
      "Collecting pandavro\n",
      "  Using cached pandavro-1.7.1-py3-none-any.whl\n",
      "Requirement already satisfied: scikit-learn in /Users/changyonglik/Library/Python/3.8/lib/python/site-packages (1.1.1)\n",
      "Collecting scikit-learn\n",
      "  Using cached scikit_learn-1.2.0-cp38-cp38-macosx_10_9_x86_64.whl (8.9 MB)\n",
      "Requirement already satisfied: requests<=2.28.1 in /Users/changyonglik/Library/Python/3.8/lib/python/site-packages (from feathr) (2.28.1)\n",
      "Collecting confluent-kafka<=1.9.2\n",
      "  Using cached confluent_kafka-1.9.2-cp38-cp38-macosx_10_9_x86_64.whl (2.8 MB)\n",
      "Requirement already satisfied: python-snappy<=0.6.1 in /usr/local/lib/python3.8/site-packages (from feathr) (0.6.1)\n",
      "Requirement already satisfied: typing-extensions>=4.2.0 in /Users/changyonglik/Library/Python/3.8/lib/python/site-packages (from feathr) (4.3.0)\n",
      "Collecting azure-synapse-spark<=0.7.0\n",
      "  Using cached azure_synapse_spark-0.7.0-py2.py3-none-any.whl (32 kB)\n",
      "Collecting pyarrow<=9.0.0\n",
      "  Using cached pyarrow-9.0.0-cp38-cp38-macosx_10_13_x86_64.whl (24.0 MB)\n",
      "Collecting azure-core<=1.22.1\n",
      "  Using cached azure_core-1.22.1-py3-none-any.whl (178 kB)\n",
      "Requirement already satisfied: databricks-cli<=0.17.3 in /Users/changyonglik/Library/Python/3.8/lib/python/site-packages (from feathr) (0.17.1.dev0)\n",
      "Collecting redis<=4.4.0\n",
      "  Using cached redis-4.4.0-py3-none-any.whl (236 kB)\n",
      "Requirement already satisfied: pandas<=1.5.0 in /Users/changyonglik/Library/Python/3.8/lib/python/site-packages (from feathr) (1.4.3)\n",
      "Collecting deltalake>=0.6.2\n",
      "  Using cached deltalake-0.6.4-cp37-abi3-macosx_10_7_x86_64.whl (13.4 MB)\n",
      "Requirement already satisfied: click<=8.1.3 in /Users/changyonglik/Library/Python/3.8/lib/python/site-packages (from feathr) (8.1.3)\n",
      "Collecting pyapacheatlas<=0.14.0\n",
      "  Using cached pyapacheatlas-0.14.0-py3-none-any.whl (74 kB)\n",
      "Collecting loguru<=0.6.0\n",
      "  Using cached loguru-0.6.0-py3-none-any.whl (58 kB)\n",
      "Requirement already satisfied: protobuf<=3.19.4,>=3.0.0 in /usr/local/lib/python3.8/site-packages (from feathr) (3.15.6)\n",
      "Collecting azure-keyvault-secrets<=4.6.0\n",
      "  Using cached azure_keyvault_secrets-4.6.0-py3-none-any.whl (291 kB)\n",
      "Collecting graphlib-backport<=1.0.3\n",
      "  Using cached graphlib_backport-1.0.3-py3-none-any.whl (5.1 kB)\n",
      "Collecting avro<=1.11.1\n",
      "  Using cached avro-1.11.1-py2.py3-none-any.whl\n",
      "Requirement already satisfied: tqdm<=4.64.1 in /Users/changyonglik/Library/Python/3.8/lib/python/site-packages (from feathr) (4.64.0)\n",
      "Requirement already satisfied: Jinja2<=3.1.2 in /Users/changyonglik/Library/Python/3.8/lib/python/site-packages (from feathr) (3.0.3)\n",
      "Requirement already satisfied: pyspark>=3.1.2 in /usr/local/Cellar/apache-spark/3.2.0/libexec/python (from feathr) (3.2.0)\n",
      "Collecting pyhocon<=0.3.59\n",
      "  Using cached pyhocon-0.3.59-py3-none-any.whl\n",
      "Collecting msrest<=0.6.21\n",
      "  Using cached msrest-0.6.21-py2.py3-none-any.whl (85 kB)\n",
      "Requirement already satisfied: azure-identity>=1.8.0 in /Users/changyonglik/Library/Python/3.8/lib/python/site-packages (from feathr) (1.10.0)\n",
      "Collecting azure-storage-file-datalake<=12.5.0\n",
      "  Using cached azure_storage_file_datalake-12.5.0-py2.py3-none-any.whl (208 kB)\n",
      "Requirement already satisfied: py4j<=0.10.9.7 in /usr/local/lib/python3.8/site-packages (from feathr) (0.10.9.2)\n",
      "Requirement already satisfied: pyyaml<=6.0 in /usr/local/lib/python3.8/site-packages (from feathr) (5.4.1)\n",
      "Requirement already satisfied: numpy>=1.15.4 in /Users/changyonglik/Library/Python/3.8/lib/python/site-packages (from pandavro) (1.22.4)\n",
      "Collecting fastavro==1.5.1\n",
      "  Using cached fastavro-1.5.1-cp38-cp38-macosx_10_15_x86_64.whl (500 kB)\n",
      "Requirement already satisfied: threadpoolctl>=2.0.0 in /Users/changyonglik/Library/Python/3.8/lib/python/site-packages (from scikit-learn) (3.1.0)\n",
      "Requirement already satisfied: scipy>=1.3.2 in /Users/changyonglik/Library/Python/3.8/lib/python/site-packages (from scikit-learn) (1.8.1)\n",
      "Collecting joblib>=1.1.1\n",
      "  Using cached joblib-1.2.0-py3-none-any.whl (297 kB)\n",
      "Requirement already satisfied: six>=1.11.0 in /Users/changyonglik/Library/Python/3.8/lib/python/site-packages (from azure-core<=1.22.1->feathr) (1.15.0)\n",
      "Requirement already satisfied: msal-extensions<2.0.0,>=0.3.0 in /Users/changyonglik/Library/Python/3.8/lib/python/site-packages (from azure-identity>=1.8.0->feathr) (1.0.0)\n",
      "Requirement already satisfied: cryptography>=2.5 in /Users/changyonglik/Library/Python/3.8/lib/python/site-packages (from azure-identity>=1.8.0->feathr) (37.0.4)\n",
      "Requirement already satisfied: msal<2.0.0,>=1.12.0 in /Users/changyonglik/Library/Python/3.8/lib/python/site-packages (from azure-identity>=1.8.0->feathr) (1.18.0)\n",
      "Collecting azure-common~=1.1\n",
      "  Using cached azure_common-1.1.28-py2.py3-none-any.whl (14 kB)\n",
      "Requirement already satisfied: azure-storage-blob<13.0.0,>=12.9.0b1 in /Users/changyonglik/Library/Python/3.8/lib/python/site-packages (from azure-storage-file-datalake<=12.5.0->feathr) (12.13.0)\n",
      "Requirement already satisfied: oauthlib>=3.1.0 in /Users/changyonglik/Library/Python/3.8/lib/python/site-packages (from databricks-cli<=0.17.3->feathr) (3.2.0)\n",
      "Requirement already satisfied: pyjwt>=1.7.0 in /Users/changyonglik/Library/Python/3.8/lib/python/site-packages (from databricks-cli<=0.17.3->feathr) (2.4.0)\n",
      "Requirement already satisfied: tabulate>=0.7.7 in /Users/changyonglik/Library/Python/3.8/lib/python/site-packages (from databricks-cli<=0.17.3->feathr) (0.8.10)\n",
      "Requirement already satisfied: MarkupSafe>=2.0 in /Users/changyonglik/Library/Python/3.8/lib/python/site-packages (from Jinja2<=3.1.2->feathr) (2.1.1)\n",
      "Requirement already satisfied: certifi>=2017.4.17 in /Users/changyonglik/Library/Python/3.8/lib/python/site-packages (from msrest<=0.6.21->feathr) (2022.6.15)\n",
      "Requirement already satisfied: isodate>=0.6.0 in /Users/changyonglik/Library/Python/3.8/lib/python/site-packages (from msrest<=0.6.21->feathr) (0.6.1)\n",
      "Requirement already satisfied: requests-oauthlib>=0.5.0 in /Users/changyonglik/Library/Python/3.8/lib/python/site-packages (from msrest<=0.6.21->feathr) (1.3.1)\n",
      "Requirement already satisfied: python-dateutil>=2.8.1 in /Users/changyonglik/Library/Python/3.8/lib/python/site-packages (from pandas<=1.5.0->feathr) (2.8.2)\n",
      "Requirement already satisfied: pytz>=2020.1 in /Users/changyonglik/Library/Python/3.8/lib/python/site-packages (from pandas<=1.5.0->feathr) (2022.1)\n",
      "Collecting openpyxl>=3.0\n",
      "  Using cached openpyxl-3.0.10-py2.py3-none-any.whl (242 kB)\n",
      "Collecting pyparsing~=2.0\n",
      "  Using cached pyparsing-2.4.7-py2.py3-none-any.whl (67 kB)\n",
      "Collecting async-timeout>=4.0.2\n",
      "  Using cached async_timeout-4.0.2-py3-none-any.whl (5.8 kB)\n",
      "Requirement already satisfied: idna<4,>=2.5 in /Users/changyonglik/Library/Python/3.8/lib/python/site-packages (from requests<=2.28.1->feathr) (3.3)\n",
      "Requirement already satisfied: urllib3<1.27,>=1.21.1 in /Users/changyonglik/Library/Python/3.8/lib/python/site-packages (from requests<=2.28.1->feathr) (1.26.10)\n",
      "Requirement already satisfied: charset-normalizer<3,>=2 in /Users/changyonglik/Library/Python/3.8/lib/python/site-packages (from requests<=2.28.1->feathr) (2.1.0)\n",
      "Collecting azure-storage-blob<13.0.0,>=12.9.0b1\n",
      "  Using cached azure_storage_blob-12.14.1-py3-none-any.whl (383 kB)\n",
      "  Using cached azure_storage_blob-12.14.0-py3-none-any.whl (383 kB)\n",
      "  Using cached azure_storage_blob-12.14.0b2-py3-none-any.whl (383 kB)\n",
      "  Using cached azure_storage_blob-12.14.0b1-py3-none-any.whl (381 kB)\n",
      "  Using cached azure_storage_blob-12.13.1-py3-none-any.whl (377 kB)\n",
      "  Using cached azure_storage_blob-12.13.0b1-py3-none-any.whl (377 kB)\n",
      "  Using cached azure_storage_blob-12.12.0-py3-none-any.whl (366 kB)\n",
      "  Using cached azure_storage_blob-12.12.0b1-py3-none-any.whl (365 kB)\n",
      "  Using cached azure_storage_blob-12.11.0-py3-none-any.whl (346 kB)\n",
      "Requirement already satisfied: cffi>=1.12 in /Users/changyonglik/Library/Python/3.8/lib/python/site-packages (from cryptography>=2.5->azure-identity>=1.8.0->feathr) (1.15.1)\n",
      "Requirement already satisfied: portalocker<3,>=1.0 in /Users/changyonglik/Library/Python/3.8/lib/python/site-packages (from msal-extensions<2.0.0,>=0.3.0->azure-identity>=1.8.0->feathr) (2.5.0)\n",
      "Collecting et-xmlfile\n",
      "  Using cached et_xmlfile-1.1.0-py3-none-any.whl (4.7 kB)\n",
      "Requirement already satisfied: pycparser in /Users/changyonglik/Library/Python/3.8/lib/python/site-packages (from cffi>=1.12->cryptography>=2.5->azure-identity>=1.8.0->feathr) (2.21)\n",
      "Installing collected packages: confluent-kafka, azure-common, pyparsing, pyarrow, loguru, joblib, graphlib-backport, fastavro, et-xmlfile, avro, async-timeout, scikit-learn, redis, pyhocon, openpyxl, deltalake, azure-core, pyapacheatlas, pandavro, msrest, azure-synapse-spark, azure-storage-blob, azure-keyvault-secrets, azure-storage-file-datalake, feathr\n",
      "  Attempting uninstall: pyparsing\n",
      "    Found existing installation: pyparsing 3.0.8\n",
      "    Uninstalling pyparsing-3.0.8:\n",
      "      Successfully uninstalled pyparsing-3.0.8\n",
      "\u001b[33m  WARNING: The script plasma_store is installed in '/Users/changyonglik/Library/Python/3.8/bin' which is not on PATH.\n",
      "  Consider adding this directory to PATH or, if you prefer to suppress this warning, use --no-warn-script-location.\n",
      "  NOTE: The current PATH contains path(s) starting with `~`, which may not be expanded by all applications.\u001b[0m\u001b[33m\n",
      "\u001b[0m  Attempting uninstall: joblib\n",
      "    Found existing installation: joblib 1.1.0\n",
      "    Uninstalling joblib-1.1.0:\n",
      "      Successfully uninstalled joblib-1.1.0\n",
      "\u001b[33m  WARNING: The script fastavro is installed in '/Users/changyonglik/Library/Python/3.8/bin' which is not on PATH.\n",
      "  Consider adding this directory to PATH or, if you prefer to suppress this warning, use --no-warn-script-location.\n",
      "  NOTE: The current PATH contains path(s) starting with `~`, which may not be expanded by all applications.\u001b[0m\u001b[33m\n",
      "\u001b[0m\u001b[33m  WARNING: The script avro is installed in '/Users/changyonglik/Library/Python/3.8/bin' which is not on PATH.\n",
      "  Consider adding this directory to PATH or, if you prefer to suppress this warning, use --no-warn-script-location.\n",
      "  NOTE: The current PATH contains path(s) starting with `~`, which may not be expanded by all applications.\u001b[0m\u001b[33m\n",
      "\u001b[0m  Attempting uninstall: scikit-learn\n",
      "    Found existing installation: scikit-learn 1.1.1\n",
      "    Uninstalling scikit-learn-1.1.1:\n",
      "      Successfully uninstalled scikit-learn-1.1.1\n",
      "\u001b[33m  WARNING: The script pyhocon is installed in '/Users/changyonglik/Library/Python/3.8/bin' which is not on PATH.\n",
      "  Consider adding this directory to PATH or, if you prefer to suppress this warning, use --no-warn-script-location.\n",
      "  NOTE: The current PATH contains path(s) starting with `~`, which may not be expanded by all applications.\u001b[0m\u001b[33m\n",
      "\u001b[0m  Attempting uninstall: azure-core\n",
      "    Found existing installation: azure-core 1.24.2\n",
      "    Uninstalling azure-core-1.24.2:\n",
      "      Successfully uninstalled azure-core-1.24.2\n",
      "  Attempting uninstall: msrest\n",
      "    Found existing installation: msrest 0.7.1\n",
      "    Uninstalling msrest-0.7.1:\n",
      "      Successfully uninstalled msrest-0.7.1\n",
      "  Attempting uninstall: azure-storage-blob\n",
      "    Found existing installation: azure-storage-blob 12.13.0\n",
      "    Uninstalling azure-storage-blob-12.13.0:\n",
      "      Successfully uninstalled azure-storage-blob-12.13.0\n",
      "\u001b[33m  WARNING: The script feathr is installed in '/Users/changyonglik/Library/Python/3.8/bin' which is not on PATH.\n",
      "  Consider adding this directory to PATH or, if you prefer to suppress this warning, use --no-warn-script-location.\n",
      "  NOTE: The current PATH contains path(s) starting with `~`, which may not be expanded by all applications.\u001b[0m\u001b[33m\n",
      "\u001b[0mSuccessfully installed async-timeout-4.0.2 avro-1.11.1 azure-common-1.1.28 azure-core-1.22.1 azure-keyvault-secrets-4.6.0 azure-storage-blob-12.11.0 azure-storage-file-datalake-12.5.0 azure-synapse-spark-0.7.0 confluent-kafka-1.9.2 deltalake-0.6.4 et-xmlfile-1.1.0 fastavro-1.5.1 feathr-0.9.0 graphlib-backport-1.0.3 joblib-1.2.0 loguru-0.6.0 msrest-0.6.21 openpyxl-3.0.10 pandavro-1.7.1 pyapacheatlas-0.14.0 pyarrow-9.0.0 pyhocon-0.3.59 pyparsing-2.4.7 redis-4.4.0 scikit-learn-1.2.0\n",
      "\n",
      "\u001b[1m[\u001b[0m\u001b[34;49mnotice\u001b[0m\u001b[1;39;49m]\u001b[0m\u001b[39;49m A new release of pip available: \u001b[0m\u001b[31;49m22.1.2\u001b[0m\u001b[39;49m -> \u001b[0m\u001b[32;49m22.3.1\u001b[0m\n",
      "\u001b[1m[\u001b[0m\u001b[34;49mnotice\u001b[0m\u001b[1;39;49m]\u001b[0m\u001b[39;49m To update, run: \u001b[0m\u001b[32;49mpython3.8 -m pip install --upgrade pip\u001b[0m\n",
      "Note: you may need to restart the kernel to use updated packages.\n"
     ]
    }
   ],
   "source": [
    "%pip install -U --user feathr pandavro scikit-learn"
   ]
  },
  {
   "cell_type": "code",
   "execution_count": 286,
   "metadata": {},
   "outputs": [],
   "source": [
    "# This step is optional and only required if you want to use the feathr registry\n",
    "#! az login --use-device-code"
   ]
  },
  {
   "cell_type": "markdown",
   "metadata": {},
   "source": [
    "## 2. Create Shareable Features with Feathr Feature Definition Configs\n",
    "\n",
    "In this notebook, we define all the necessary resource key values for authentication. We use the values passed by the databricks widgets at the top of this notebook. Instead of manually entering the values to the widgets, we can also use [Azure Key Vault](https://azure.microsoft.com/en-us/services/key-vault/) to retrieve them.\n",
    "Please refer to [how-to guide documents for granting key-vault access](https://feathr-ai.github.io/feathr/how-to-guides/azure-deployment-arm.html#3-grant-key-vault-and-synapse-access-to-selected-users-optional) and [Databricks' Azure Key Vault-backed scopes](https://learn.microsoft.com/en-us/azure/databricks/security/secrets/secret-scopes) for more details."
   ]
  },
  {
   "cell_type": "code",
   "execution_count": 3,
   "metadata": {},
   "outputs": [],
   "source": [
    "import glob\n",
    "import os\n",
    "import tempfile\n",
    "from datetime import datetime, timedelta\n",
    "from math import sqrt\n",
    "\n",
    "import pandas as pd\n",
    "import pandavro as pdx\n",
    "from feathr import FeathrClient\n",
    "from feathr import BOOLEAN, FLOAT, INT32, ValueType\n",
    "from feathr import Feature, DerivedFeature, FeatureAnchor\n",
    "from feathr import BackfillTime, MaterializationSettings\n",
    "from feathr import FeatureQuery, ObservationSettings\n",
    "from feathr import RedisSink\n",
    "from feathr import INPUT_CONTEXT, HdfsSource\n",
    "from feathr import WindowAggTransformation\n",
    "from feathr import TypedKey\n",
    "from sklearn.metrics import mean_squared_error\n",
    "from sklearn.model_selection import train_test_split\n",
    "from azure.identity import AzureCliCredential\n",
    "from azure.keyvault.secrets import SecretClient\n",
    "from pyspark.ml import Pipeline\n",
    "from pyspark.ml.evaluation import RegressionEvaluator\n",
    "from pyspark.ml.feature import VectorAssembler\n",
    "from pyspark.ml.regression import GBTRegressor\n",
    "from pyspark.sql import DataFrame, SparkSession\n",
    "import pyspark.sql.functions as F"
   ]
  },
  {
   "cell_type": "code",
   "execution_count": 4,
   "metadata": {},
   "outputs": [
    {
     "name": "stdout",
     "output_type": "stream",
     "text": [
      "0.9.0\n"
     ]
    }
   ],
   "source": [
    "import feathr\n",
    "print(feathr.__version__)"
   ]
  },
  {
   "cell_type": "markdown",
   "metadata": {},
   "source": [
    "## Initialize Feathr Client \n",
    "We will use the Feathr Local client to train our model. The client will be initialized with the default configuration. The default configuration can be overwritten by environment variables."
   ]
  },
  {
   "cell_type": "code",
   "execution_count": 5,
   "metadata": {},
   "outputs": [],
   "source": [
    "os.environ['SPARK_LOCAL_IP'] = \"127.0.0.1\"\n",
    "\n",
    "import tempfile\n",
    "yaml_config = f\"\"\"\n",
    "api_version: 1\n",
    "project_config:\n",
    "  project_name: 'local_spark'\n",
    "  required_environment_variables:\n",
    "  optional_environment_variables:\n",
    "    # the environemnt variables are optional, however you will need them if you want to use some of the services:\n",
    "    - ADLS_ACCOUNT\n",
    "    - ADLS_KEY\n",
    "    - WASB_ACCOUNT\n",
    "    - WASB_KEY\n",
    "    - S3_ACCESS_KEY\n",
    "    - S3_SECRET_KEY\n",
    "    - JDBC_TABLE\n",
    "    - JDBC_USER\n",
    "    - JDBC_PASSWORD\n",
    "    - KAFKA_SASL_JAAS_CONFIG\n",
    "\n",
    "\n",
    "spark_config:\n",
    "  # choice for spark runtime. Currently support: azure_synapse, databricks, local\n",
    "  spark_cluster: 'local'\n",
    "  spark_result_output_parts: '1'\n",
    "  local:\n",
    "    master: 'local[*]'\n",
    "    feathr_runtime_location:\n",
    "\n",
    "online_store:\n",
    "  redis:\n",
    "    # Redis configs to access Redis cluster\n",
    "    host: '<redis_host_name>'\n",
    "    port: 6380\n",
    "    ssl_enabled: True\n",
    "\n",
    "feature_registry:\n",
    "  # The API endpoint of the registry service\n",
    "  api_endpoint: \"https://feathr-sql-registry.azurewebsites.net/api/v1\"\n",
    "\"\"\"\n",
    "\n",
    "tmp = tempfile.NamedTemporaryFile(mode='w', delete=False)\n",
    "with open(tmp.name, \"w\") as text_file:\n",
    "    text_file.write(yaml_config)"
   ]
  },
  {
   "cell_type": "markdown",
   "metadata": {},
   "source": [
    "### Initialize Feathr Client"
   ]
  },
  {
   "cell_type": "code",
   "execution_count": 6,
   "metadata": {},
   "outputs": [
    {
     "name": "stderr",
     "output_type": "stream",
     "text": [
      "2023-01-07 16:12:35.728 | INFO     | feathr.utils._envvariableutil:get_environment_variable_with_default:51 - secrets__azure_key_vault__name not found in the config file.\n",
      "2023-01-07 16:12:35.749 | INFO     | feathr.utils._envvariableutil:get_environment_variable_with_default:51 - offline_store__s3__s3_enabled not found in the config file.\n",
      "2023-01-07 16:12:35.754 | INFO     | feathr.utils._envvariableutil:get_environment_variable_with_default:51 - offline_store__adls__adls_enabled not found in the config file.\n",
      "2023-01-07 16:12:35.759 | INFO     | feathr.utils._envvariableutil:get_environment_variable_with_default:51 - offline_store__wasb__wasb_enabled not found in the config file.\n",
      "2023-01-07 16:12:35.763 | INFO     | feathr.utils._envvariableutil:get_environment_variable_with_default:51 - offline_store__jdbc__jdbc_enabled not found in the config file.\n",
      "2023-01-07 16:12:35.768 | INFO     | feathr.utils._envvariableutil:get_environment_variable_with_default:51 - offline_store__snowflake__snowflake_enabled not found in the config file.\n",
      "No offline storage enabled.\n",
      "2023-01-07 16:12:35.785 | INFO     | feathr.utils._envvariableutil:get_environment_variable_with_default:51 - spark_config__local__workspace not found in the config file.\n",
      "2023-01-07 16:12:35.789 | INFO     | feathr.utils._envvariableutil:get_environment_variable:82 - REDIS_PASSWORD is not set in the environment variables.\n",
      "2023-01-07 16:12:35.808 | INFO     | feathr.utils._envvariableutil:get_environment_variable_with_default:51 - secrets__azure_key_vault__name not found in the config file.\n",
      "2023-01-07 16:12:35.817 | INFO     | feathr.client:__init__:176 - Feathr Client 0.9.0 initialized successfully\n"
     ]
    }
   ],
   "source": [
    "client = FeathrClient(tmp.name)"
   ]
  },
  {
   "cell_type": "markdown",
   "metadata": {},
   "source": [
    "### Download the sample data\n",
    "The sample data will be downloaded to your workspace."
   ]
  },
  {
   "cell_type": "code",
   "execution_count": 7,
   "metadata": {},
   "outputs": [
    {
     "name": "stderr",
     "output_type": "stream",
     "text": [
      "<ipython-input-7-ed3176f1b792>:2: DtypeWarning: Columns (4) have mixed types. Specify dtype option on import or set low_memory=False.\n",
      "  df_raw = pd.read_csv(\"https://azurefeathrstorage.blob.core.windows.net/public/sample_data/green_tripdata_2020-04_with_index.csv\")\n"
     ]
    }
   ],
   "source": [
    "import pandas as pd\n",
    "df_raw = pd.read_csv(\"https://azurefeathrstorage.blob.core.windows.net/public/sample_data/green_tripdata_2020-04_with_index.csv\")\n",
    "df_raw.to_csv(\"green_tripdata_2020-04_with_index.csv\", index=False)\n",
    "DATA_FILE_PATH = \"./green_tripdata_2020-04_with_index.csv\""
   ]
  },
  {
   "cell_type": "markdown",
   "metadata": {},
   "source": [
    "### Defining features with Feathr\n",
    "\n",
    "In Feathr, a feature is viewed as a function, mapping a key and timestamp to a feature value. For more details, please see [Feathr Feature Definition Guide](https://github.com/feathr-ai/feathr/blob/main/docs/concepts/feature-definition.md).\n",
    "\n",
    "* The feature key (a.k.a. entity id) identifies the subject of feature, e.g. a user_id or location_id.\n",
    "* The feature name is the aspect of the entity that the feature is indicating, e.g. the age of the user.\n",
    "* The feature value is the actual value of that aspect at a particular time, e.g. the value is 30 at year 2022.\n",
    "\n",
    "Note that, in some cases, a feature could be just a transformation function that has no entity key or timestamp involved, e.g. *the day of week of the request timestamp*.\n",
    "\n",
    "There are two types of features -- anchored features and derivated features:\n",
    "\n",
    "* **Anchored features**: Features that are directly extracted from sources. Could be with or without aggregation. \n",
    "* **Derived features**: Features that are computed on top of other features.\n",
    "\n",
    "#### Define anchored features\n",
    "\n",
    "A feature source is needed for anchored features that describes the raw data in which the feature values are computed from. A source value should be either `INPUT_CONTEXT` (the features that will be extracted from the observation data directly) or `feathr.source.Source` object."
   ]
  },
  {
   "cell_type": "code",
   "execution_count": 8,
   "metadata": {},
   "outputs": [],
   "source": [
    "TIMESTAMP_COL = \"lpep_dropoff_datetime\"\n",
    "TIMESTAMP_FORMAT = \"yyyy-MM-dd HH:mm:ss\""
   ]
  },
  {
   "cell_type": "code",
   "execution_count": 9,
   "metadata": {},
   "outputs": [],
   "source": [
    "def preprocessing(df: DataFrame) -> DataFrame:\n",
    "    import pyspark.sql.functions as F\n",
    "    df = df.withColumn(\"fare_amount_cents\", (F.col(\"fare_amount\") * 100.0).cast(\"float\"))\n",
    "    return df\n",
    "\n",
    "batch_source = HdfsSource(\n",
    "    name=\"nycTaxiBatchSource\",\n",
    "    path=DATA_FILE_PATH,\n",
    "    event_timestamp_column=TIMESTAMP_COL,\n",
    "    preprocessing=preprocessing,\n",
    "    timestamp_format=TIMESTAMP_FORMAT,\n",
    ")"
   ]
  },
  {
   "cell_type": "code",
   "execution_count": 10,
   "metadata": {},
   "outputs": [],
   "source": [
    "# We define f_trip_distance and f_trip_time_duration features separately\n",
    "# so that we can reuse them later for the derived features.\n",
    "f_trip_distance = Feature(\n",
    "    name=\"f_trip_distance\",\n",
    "    feature_type=FLOAT,\n",
    "    transform=\"trip_distance\",\n",
    ")\n",
    "f_trip_time_duration = Feature(\n",
    "    name=\"f_trip_time_duration\",\n",
    "    feature_type=FLOAT,\n",
    "    transform=\"cast_float((to_unix_timestamp(lpep_dropoff_datetime) - to_unix_timestamp(lpep_pickup_datetime)) / 60)\",\n",
    ")\n",
    "\n",
    "\n",
    "\n",
    "features = [\n",
    "    f_trip_distance,\n",
    "    f_trip_time_duration,\n",
    "    Feature(\n",
    "        name=\"f_is_long_trip_distance\",\n",
    "        feature_type=BOOLEAN,\n",
    "        transform=\"trip_distance > 30.0\",\n",
    "    ),\n",
    "    Feature(\n",
    "        name=\"f_day_of_week\",\n",
    "        feature_type=INT32,\n",
    "        transform=\"dayofweek(lpep_dropoff_datetime)\",\n",
    "    ),\n",
    "    Feature(\n",
    "        name=\"f_day_of_month\",\n",
    "        feature_type=INT32,\n",
    "        transform=\"dayofmonth(lpep_dropoff_datetime)\",\n",
    "    ),\n",
    "    Feature(\n",
    "        name=\"f_hour_of_day\",\n",
    "        feature_type=INT32,\n",
    "        transform=\"hour(lpep_dropoff_datetime)\",\n",
    "    ),\n",
    "]\n",
    "\n",
    "# After you have defined features, bring them together to build the anchor to the source.\n",
    "feature_anchor = FeatureAnchor(\n",
    "    name=\"feature_anchor\",\n",
    "    source=INPUT_CONTEXT,  # Pass through source, i.e. observation data.\n",
    "    features=features,\n",
    ")"
   ]
  },
  {
   "cell_type": "markdown",
   "metadata": {},
   "source": [
    "For the features with aggregation, the supported functions are as follows:\n",
    "\n",
    "| Aggregation Function | Input Type | Description |\n",
    "| --- | --- | --- |\n",
    "|SUM, COUNT, MAX, MIN, AVG\t|Numeric|Applies the the numerical operation on the numeric inputs. |\n",
    "|MAX_POOLING, MIN_POOLING, AVG_POOLING\t| Numeric Vector | Applies the max/min/avg operation on a per entry bassis for a given a collection of numbers.|\n",
    "|LATEST| Any |Returns the latest not-null values from within the defined time window |"
   ]
  },
  {
   "cell_type": "code",
   "execution_count": 11,
   "metadata": {},
   "outputs": [],
   "source": [
    "agg_key = TypedKey(\n",
    "    key_column=\"DOLocationID\",\n",
    "    key_column_type=ValueType.INT32,\n",
    "    description=\"location id in NYC\",\n",
    "    full_name=\"nyc_taxi.location_id\",\n",
    ")\n",
    "\n",
    "agg_window = \"90d\"\n",
    "\n",
    "# Anchored features with aggregations\n",
    "agg_features = [\n",
    "    Feature(\n",
    "        name=\"f_location_avg_fare\",\n",
    "        key=agg_key,\n",
    "        feature_type=FLOAT,\n",
    "        transform=WindowAggTransformation(\n",
    "            agg_expr=\"fare_amount_cents\",\n",
    "            agg_func=\"AVG\",\n",
    "            window=agg_window,\n",
    "        ),\n",
    "    ),\n",
    "    Feature(\n",
    "        name=\"f_location_max_fare\",\n",
    "        key=agg_key,\n",
    "        feature_type=FLOAT,\n",
    "        transform=WindowAggTransformation(\n",
    "            agg_expr=\"fare_amount_cents\",\n",
    "            agg_func=\"MAX\",\n",
    "            window=agg_window,\n",
    "        ),\n",
    "    ),\n",
    "]\n",
    "\n",
    "agg_feature_anchor = FeatureAnchor(\n",
    "    name=\"agg_feature_anchor\",\n",
    "    source=batch_source,  # External data source for feature. Typically a data table.\n",
    "    features=agg_features,\n",
    ")"
   ]
  },
  {
   "cell_type": "markdown",
   "metadata": {},
   "source": [
    "#### Define derived features\n",
    "\n",
    "We also define a derived feature, `f_trip_distance_rounded`, from the anchored features `f_trip_distance` as follows:"
   ]
  },
  {
   "cell_type": "code",
   "execution_count": 12,
   "metadata": {},
   "outputs": [],
   "source": [
    "f_trip_time_distance = DerivedFeature(name=\"f_trip_time_distance\",\n",
    "                                          feature_type=FLOAT,\n",
    "                                          input_features=[\n",
    "                                              f_trip_distance, f_trip_time_duration],\n",
    "                                          transform=\"f_trip_distance * f_trip_time_duration\")\n",
    "\n",
    "f_trip_time_rounded = DerivedFeature(name=\"f_trip_time_rounded\",\n",
    "                                         feature_type=INT32,\n",
    "                                         input_features=[f_trip_time_duration],\n",
    "                                         transform=\"f_trip_time_duration % 10\")\n",
    "\n",
    "derived_feature = [f_trip_time_distance, f_trip_time_rounded]"
   ]
  },
  {
   "cell_type": "markdown",
   "metadata": {},
   "source": [
    "### Build features\n",
    "\n",
    "Finally, we build the features."
   ]
  },
  {
   "cell_type": "code",
   "execution_count": 13,
   "metadata": {},
   "outputs": [],
   "source": [
    "client.build_features(\n",
    "    anchor_list=[feature_anchor, agg_feature_anchor],\n",
    "    derived_feature_list=derived_feature,\n",
    ")"
   ]
  },
  {
   "cell_type": "code",
   "execution_count": 14,
   "metadata": {},
   "outputs": [],
   "source": [
    "# This cell is optional if you want to use the feathr registry.\n",
    "#client.register_features()\n",
    "#client.list_registered_features(client.project_name)"
   ]
  },
  {
   "cell_type": "markdown",
   "metadata": {},
   "source": [
    "## 3. Create Training Data Using Point-in-Time Correct Feature Join\n",
    "\n",
    "After the feature producers have defined the features (as described in the Feature Definition part), the feature consumers may want to consume those features. Feature consumers will use observation data to query from different feature tables using Feature Query.\n",
    "\n",
    "To create a training dataset using Feathr, one needs to provide a feature join configuration file to specify\n",
    "what features and how these features should be joined to the observation data. \n",
    "\n",
    "To learn more on this topic, please refer to [Point-in-time Correctness](https://github.com/linkedin/feathr/blob/main/docs/concepts/point-in-time-join.md)"
   ]
  },
  {
   "cell_type": "code",
   "execution_count": 15,
   "metadata": {},
   "outputs": [
    {
     "data": {
      "text/plain": [
       "['f_trip_distance',\n",
       " 'f_trip_time_duration',\n",
       " 'f_is_long_trip_distance',\n",
       " 'f_day_of_week',\n",
       " 'f_day_of_month',\n",
       " 'f_hour_of_day',\n",
       " 'f_location_avg_fare',\n",
       " 'f_location_max_fare']"
      ]
     },
     "execution_count": 15,
     "metadata": {},
     "output_type": "execute_result"
    }
   ],
   "source": [
    "feature_names = [feature.name for feature in features + agg_features]\n",
    "feature_names"
   ]
  },
  {
   "cell_type": "code",
   "execution_count": 16,
   "metadata": {},
   "outputs": [],
   "source": [
    "now = datetime.now().strftime(\"%Y%m%d%H%M%S\")\n",
    "output_path = os.path.join(\"debug\", f\"test_output_{now}\")\n",
    "\n",
    "offline_features_path = output_path"
   ]
  },
  {
   "cell_type": "code",
   "execution_count": 17,
   "metadata": {},
   "outputs": [
    {
     "name": "stderr",
     "output_type": "stream",
     "text": [
      "2023-01-07 16:13:55.670 | WARNING  | feathr.spark_provider._localspark_submission:submit_feathr_job:73 - Local Spark Mode only support basic params right now and should be used only for testing purpose.\n",
      "2023-01-07 16:13:55.671 | INFO     | feathr.spark_provider._localspark_submission:_init_args:202 - Spark job: local_spark_feathr_feature_join_job is running on local spark with master: local[*].\n",
      "2023-01-07 16:13:55.682 | INFO     | feathr.spark_provider._localspark_submission:submit_feathr_job:116 - Detail job stdout and stderr are in debug/local_spark_feathr_feature_join_job20230107161355/log.\n",
      "2023-01-07 16:13:55.685 | INFO     | feathr.spark_provider._localspark_submission:submit_feathr_job:126 - Local Spark job submit with pid: 8716.\n",
      "2023-01-07 16:13:55.687 | INFO     | feathr.spark_provider._localspark_submission:wait_for_completion:134 - 1 local spark job(s) in this Launcher, only the latest will be monitored.\n",
      "2023-01-07 16:13:55.688 | INFO     | feathr.spark_provider._localspark_submission:wait_for_completion:135 - Please check auto generated spark command in debug/local_spark_feathr_feature_join_job20230107161355/command.sh and detail logs in debug/local_spark_feathr_feature_join_job20230107161355/log.\n"
     ]
    },
    {
     "name": "stdout",
     "output_type": "stream",
     "text": [
      "debug/local_spark_feathr_feature_join_job20230107161355\n",
      "['/var/folders/8k/ph3xqvb11k32hjl7r78jhzh00000gn/T/tmpb1slfns4/feathr_pyspark_driver.py']\n",
      "x>x>x>x>>x>x>xxx"
     ]
    },
    {
     "name": "stderr",
     "output_type": "stream",
     "text": [
      "2023-01-07 16:14:57.747 | WARNING  | feathr.spark_provider._localspark_submission:wait_for_completion:146 - Spark job has hang for 15 seconds. latest msg is downloading https://repo1.maven.org/maven2/org/apache/hadoop/hadoop-azure/3.2.0/hadoop-azure-3.2.0.jar ...\n",
      ".                             Please check debug/local_spark_feathr_feature_join_job20230107161355/log_0.txt\n",
      "2023-01-07 16:14:57.748 | WARNING  | feathr.spark_provider._localspark_submission:_clean_up:191 - Terminate the spark job due to as clean_up is set to True.\n",
      "2023-01-07 16:14:57.789 | INFO     | feathr.spark_provider._localspark_submission:wait_for_completion:184 - Spark job with pid 8716 finished in: 62 seconds                     with returncode 143\n"
     ]
    }
   ],
   "source": [
    "# Features that we want to request. Can use a subset of features\n",
    "query = FeatureQuery(\n",
    "    feature_list=feature_names,\n",
    "    key=agg_key,\n",
    ")\n",
    "settings = ObservationSettings(\n",
    "    observation_path=DATA_FILE_PATH,\n",
    "    event_timestamp_column=TIMESTAMP_COL,\n",
    "    timestamp_format=TIMESTAMP_FORMAT,\n",
    ")\n",
    "client.get_offline_features(\n",
    "    observation_settings=settings,\n",
    "    feature_query=query,\n",
    "    output_path=offline_features_path,\n",
    ")\n",
    "\n",
    "client.wait_job_to_finish(timeout_sec=5000)"
   ]
  },
  {
   "cell_type": "code",
   "execution_count": 19,
   "metadata": {},
   "outputs": [],
   "source": [
    "dataframe_list = []\n",
    "vertical_concat_df = None\n",
    "for file in glob.glob(os.path.join(output_path, '*.avro')):\n",
    "    dataframe_list.append(pdx.read_avro(file))\n",
    "    vertical_concat_df = pd.concat(dataframe_list, axis=0)\n",
    "\n",
    "vertical_concat_df"
   ]
  },
  {
   "cell_type": "markdown",
   "metadata": {},
   "source": [
    "## 4. Train and Evaluate a Prediction Model\n",
    "\n",
    "After generating all the features, we train and evaluate a machine learning model to predict the NYC taxi fare prediction. In this example, we use Spark MLlib's [GBTRegressor](https://spark.apache.org/docs/latest/ml-classification-regression.html#gradient-boosted-tree-regression).\n",
    "\n",
    "Note that designing features, training prediction models and evaluating them are an iterative process where the models' performance maybe used to modify the features as a part of the modeling process."
   ]
  },
  {
   "cell_type": "code",
   "execution_count": 20,
   "metadata": {},
   "outputs": [
    {
     "ename": "AttributeError",
     "evalue": "'NoneType' object has no attribute 'drop'",
     "output_type": "error",
     "traceback": [
      "\u001b[0;31m---------------------------------------------------------------------------\u001b[0m",
      "\u001b[0;31mAttributeError\u001b[0m                            Traceback (most recent call last)",
      "\u001b[0;32m<ipython-input-20-b763a9b15c8d>\u001b[0m in \u001b[0;36m<module>\u001b[0;34m\u001b[0m\n\u001b[1;32m      2\u001b[0m \u001b[0;32mfrom\u001b[0m \u001b[0msklearn\u001b[0m\u001b[0;34m.\u001b[0m\u001b[0mensemble\u001b[0m \u001b[0;32mimport\u001b[0m \u001b[0mGradientBoostingRegressor\u001b[0m\u001b[0;34m\u001b[0m\u001b[0;34m\u001b[0m\u001b[0m\n\u001b[1;32m      3\u001b[0m \u001b[0mfinal_df\u001b[0m \u001b[0;34m=\u001b[0m \u001b[0mvertical_concat_df\u001b[0m\u001b[0;34m\u001b[0m\u001b[0;34m\u001b[0m\u001b[0m\n\u001b[0;32m----> 4\u001b[0;31m final_df.drop([\"lpep_pickup_datetime\", \"lpep_dropoff_datetime\",\n\u001b[0m\u001b[1;32m      5\u001b[0m               \"store_and_fwd_flag\"], axis=1, inplace=True, errors='ignore')\n\u001b[1;32m      6\u001b[0m \u001b[0mfinal_df\u001b[0m\u001b[0;34m.\u001b[0m\u001b[0mfillna\u001b[0m\u001b[0;34m(\u001b[0m\u001b[0;36m0\u001b[0m\u001b[0;34m,\u001b[0m \u001b[0minplace\u001b[0m\u001b[0;34m=\u001b[0m\u001b[0;32mTrue\u001b[0m\u001b[0;34m)\u001b[0m\u001b[0;34m\u001b[0m\u001b[0;34m\u001b[0m\u001b[0m\n",
      "\u001b[0;31mAttributeError\u001b[0m: 'NoneType' object has no attribute 'drop'"
     ]
    }
   ],
   "source": [
    "# remove columns\n",
    "from sklearn.ensemble import GradientBoostingRegressor\n",
    "final_df = vertical_concat_df\n",
    "final_df.drop([\"lpep_pickup_datetime\", \"lpep_dropoff_datetime\",\n",
    "              \"store_and_fwd_flag\"], axis=1, inplace=True, errors='ignore')\n",
    "final_df.fillna(0, inplace=True)\n",
    "final_df['fare_amount'] = final_df['fare_amount'].astype(\"float64\")\n",
    "\n",
    "\n",
    "train_x, test_x, train_y, test_y = train_test_split(final_df.drop([\"fare_amount\"], axis=1),\n",
    "                                                    final_df[\"fare_amount\"],\n",
    "                                                    test_size=0.2,\n",
    "                                                    random_state=42)\n"
   ]
  },
  {
   "cell_type": "code",
   "execution_count": null,
   "metadata": {},
   "outputs": [],
   "source": [
    "model = GradientBoostingRegressor()\n",
    "model.fit(train_x, train_y)\n",
    "\n",
    "y_predict = model.predict(test_x)\n",
    "\n",
    "y_actual = test_y.values.flatten().tolist()\n",
    "rmse = sqrt(mean_squared_error(y_actual, y_predict))\n",
    "\n",
    "sum_actuals = sum_errors = 0\n",
    "\n",
    "for actual_val, predict_val in zip(y_actual, y_predict):\n",
    "    abs_error = actual_val - predict_val\n",
    "    if abs_error < 0:\n",
    "        abs_error = abs_error * -1\n",
    "\n",
    "    sum_errors = sum_errors + abs_error\n",
    "    sum_actuals = sum_actuals + actual_val"
   ]
  },
  {
   "cell_type": "code",
   "execution_count": null,
   "metadata": {},
   "outputs": [],
   "source": [
    "mean_abs_percent_error = sum_errors / sum_actuals\n",
    "print(\"Model MAPE:\")\n",
    "print(mean_abs_percent_error)\n",
    "print()\n",
    "print(\"Model Accuracy:\")\n",
    "print(1 - mean_abs_percent_error)\n"
   ]
  },
  {
   "cell_type": "markdown",
   "metadata": {},
   "source": [
    "## 5. Materialize Feature Values for Online Scoring\n",
    "\n",
    "While we computed feature values on-the-fly at request time via Feathr, we can pre-compute the feature values and materialize them to offline or online storages such as Redis.\n",
    "\n",
    "Note, only the features anchored to offline data source can be materialized."
   ]
  },
  {
   "cell_type": "code",
   "execution_count": null,
   "metadata": {},
   "outputs": [
    {
     "data": {
      "text/plain": [
       "['f_location_avg_fare', 'f_location_max_fare']"
      ]
     },
     "execution_count": 273,
     "metadata": {},
     "output_type": "execute_result"
    }
   ],
   "source": [
    "materialized_feature_names = [feature.name for feature in agg_features]\n",
    "materialized_feature_names"
   ]
  },
  {
   "cell_type": "code",
   "execution_count": null,
   "metadata": {},
   "outputs": [],
   "source": [
    "REDIS_KEY = None"
   ]
  },
  {
   "cell_type": "code",
   "execution_count": null,
   "metadata": {},
   "outputs": [
    {
     "name": "stderr",
     "output_type": "stream",
     "text": [
      "2022-10-31 13:20:07.063 | INFO     | feathr.utils._envvariableutil:get_environment_variable:82 - KAFKA_SASL_JAAS_CONFIG is not set in the environment variables.\n",
      "2022-10-31 13:20:07.063 | INFO     | feathr.utils._envvariableutil:get_environment_variable:82 - REDIS_PASSWORD is not set in the environment variables.\n",
      "2022-10-31 13:20:07.065 | INFO     | feathr.utils._envvariableutil:get_environment_variable_with_default:51 - monitoring__database__sql__url not found in the config file.\n",
      "2022-10-31 13:20:07.068 | INFO     | feathr.utils._envvariableutil:get_environment_variable_with_default:51 - monitoring__database__sql__user not found in the config file.\n",
      "2022-10-31 13:20:07.069 | INFO     | feathr.utils._envvariableutil:get_environment_variable:82 - MONITORING_DATABASE_SQL_PASSWORD is not set in the environment variables.\n",
      "2022-10-31 13:20:07.069 | WARNING  | feathr.spark_provider._localspark_submission:submit_feathr_job:73 - Local Spark Mode only support basic params right now and should be used only for testing purpose.\n",
      "2022-10-31 13:20:07.071 | INFO     | feathr.spark_provider._localspark_submission:_init_args:202 - Spark job: local_spark_feathr_feature_materialization_job is running on local spark with master: local[*].\n",
      "2022-10-31 13:20:07.078 | INFO     | feathr.spark_provider._localspark_submission:submit_feathr_job:116 - Detail job stdout and stderr are in debug/local_spark_feathr_feature_materialization_job20221031132007/log.\n",
      "2022-10-31 13:20:07.080 | INFO     | feathr.spark_provider._localspark_submission:submit_feathr_job:126 - Local Spark job submit with pid: 13327.\n",
      "2022-10-31 13:20:07.080 | INFO     | feathr.spark_provider._localspark_submission:wait_for_completion:134 - 4 local spark job(s) in this Launcher, only the latest will be monitored.\n",
      "2022-10-31 13:20:07.081 | INFO     | feathr.spark_provider._localspark_submission:wait_for_completion:135 - Please check auto generated spark command in debug/local_spark_feathr_feature_materialization_job20221031132007/command.sh and detail logs in debug/local_spark_feathr_feature_materialization_job20221031132007/log.\n"
     ]
    },
    {
     "name": "stdout",
     "output_type": "stream",
     "text": [
      "debug/local_spark_feathr_feature_materialization_job20221031132007\n",
      "['/var/folders/93/3jr6fmn92v1dwn7y6mmfyvl00000gn/T/tmp1m74z05l/feathr_pyspark_driver.py']\n",
      "x>x>>>>"
     ]
    },
    {
     "ename": "KeyboardInterrupt",
     "evalue": "",
     "output_type": "error",
     "traceback": [
      "\u001b[0;31m---------------------------------------------------------------------------\u001b[0m",
      "\u001b[0;31mKeyboardInterrupt\u001b[0m                         Traceback (most recent call last)",
      "Cell \u001b[0;32mIn [284], line 14\u001b[0m\n\u001b[1;32m      7\u001b[0m settings \u001b[39m=\u001b[39m MaterializationSettings(FEATURE_TABLE_NAME \u001b[39m+\u001b[39m \u001b[39m\"\u001b[39m\u001b[39m.job\u001b[39m\u001b[39m\"\u001b[39m,\n\u001b[1;32m      8\u001b[0m                                    sinks\u001b[39m=\u001b[39m[redisSink],\n\u001b[1;32m      9\u001b[0m                                    feature_names\u001b[39m=\u001b[39m[\n\u001b[1;32m     10\u001b[0m                                        \u001b[39m\"\u001b[39m\u001b[39mf_location_avg_fare\u001b[39m\u001b[39m\"\u001b[39m, \u001b[39m\"\u001b[39m\u001b[39mf_location_max_fare\u001b[39m\u001b[39m\"\u001b[39m],\n\u001b[1;32m     11\u001b[0m                                    backfill_time\u001b[39m=\u001b[39mbackfill_time)\n\u001b[1;32m     12\u001b[0m client\u001b[39m.\u001b[39mmaterialize_features(settings)\n\u001b[0;32m---> 14\u001b[0m client\u001b[39m.\u001b[39;49mwait_job_to_finish(\u001b[39m5000\u001b[39;49m)\n",
      "File \u001b[0;32m~/Documents/GitHub/feathr/feathr_project/feathr/client.py:722\u001b[0m, in \u001b[0;36mFeathrClient.wait_job_to_finish\u001b[0;34m(self, timeout_sec)\u001b[0m\n\u001b[1;32m    719\u001b[0m \u001b[39mdef\u001b[39;00m \u001b[39mwait_job_to_finish\u001b[39m(\u001b[39mself\u001b[39m, timeout_sec: \u001b[39mint\u001b[39m \u001b[39m=\u001b[39m \u001b[39m300\u001b[39m):\n\u001b[1;32m    720\u001b[0m     \u001b[39m\"\"\"Waits for the job to finish in a blocking way unless it times out\u001b[39;00m\n\u001b[1;32m    721\u001b[0m \u001b[39m    \"\"\"\u001b[39;00m\n\u001b[0;32m--> 722\u001b[0m     \u001b[39mif\u001b[39;00m \u001b[39mself\u001b[39;49m\u001b[39m.\u001b[39;49mfeathr_spark_launcher\u001b[39m.\u001b[39;49mwait_for_completion(timeout_sec):\n\u001b[1;32m    723\u001b[0m         \u001b[39mreturn\u001b[39;00m\n\u001b[1;32m    724\u001b[0m     \u001b[39melse\u001b[39;00m:\n",
      "File \u001b[0;32m~/Documents/GitHub/feathr/feathr_project/feathr/spark_provider/_localspark_submission.py:143\u001b[0m, in \u001b[0;36m_FeathrLocalSparkJobLauncher.wait_for_completion\u001b[0;34m(self, timeout_seconds)\u001b[0m\n\u001b[1;32m    141\u001b[0m log_read \u001b[39m=\u001b[39m \u001b[39mopen\u001b[39m(\u001b[39mf\u001b[39m\u001b[39m\"\u001b[39m\u001b[39m{\u001b[39;00m\u001b[39mself\u001b[39m\u001b[39m.\u001b[39mlog_path\u001b[39m}\u001b[39;00m\u001b[39m_\u001b[39m\u001b[39m{\u001b[39;00m\u001b[39mself\u001b[39m\u001b[39m.\u001b[39mspark_job_num\u001b[39m-\u001b[39m\u001b[39m1\u001b[39m\u001b[39m}\u001b[39;00m\u001b[39m.txt\u001b[39m\u001b[39m\"\u001b[39m, \u001b[39m\"\u001b[39m\u001b[39mr\u001b[39m\u001b[39m\"\u001b[39m)\n\u001b[1;32m    142\u001b[0m \u001b[39mwhile\u001b[39;00m proc\u001b[39m.\u001b[39mpoll() \u001b[39mis\u001b[39;00m \u001b[39mNone\u001b[39;00m \u001b[39mand\u001b[39;00m (((timeout_seconds \u001b[39mis\u001b[39;00m \u001b[39mNone\u001b[39;00m) \u001b[39mor\u001b[39;00m (time\u001b[39m.\u001b[39mtime() \u001b[39m-\u001b[39m start_time \u001b[39m<\u001b[39m timeout_seconds))):\n\u001b[0;32m--> 143\u001b[0m     time\u001b[39m.\u001b[39;49msleep(\u001b[39m1\u001b[39;49m)\n\u001b[1;32m    144\u001b[0m     \u001b[39mtry\u001b[39;00m:\n\u001b[1;32m    145\u001b[0m         \u001b[39mif\u001b[39;00m retry \u001b[39m<\u001b[39m \u001b[39m1\u001b[39m:\n",
      "\u001b[0;31mKeyboardInterrupt\u001b[0m: "
     ]
    }
   ],
   "source": [
    "if REDIS_KEY:\n",
    "    FEATURE_TABLE_NAME = \"nycTaxiDemoFeature\"\n",
    "\n",
    "    backfill_time = BackfillTime(start=datetime(\n",
    "        2020, 4, 1), end=datetime(2020, 4, 1), step=timedelta(days=1))\n",
    "    redisSink = RedisSink(table_name=FEATURE_TABLE_NAME)\n",
    "    settings = MaterializationSettings(FEATURE_TABLE_NAME + \".job\",\n",
    "                                       sinks=[redisSink],\n",
    "                                       feature_names=[\n",
    "                                           \"f_location_avg_fare\", \"f_location_max_fare\"],\n",
    "                                       backfill_time=backfill_time)\n",
    "    client.materialize_features(settings)\n",
    "\n",
    "    client.wait_job_to_finish(5000)"
   ]
  },
  {
   "cell_type": "code",
   "execution_count": null,
   "metadata": {},
   "outputs": [],
   "source": [
    "if REDIS_KEY:\n",
    "    # Note, to get a single key, you may use client.get_online_features instead\n",
    "    materialized_feature_values = client.multi_get_online_features(\n",
    "        feature_table=FEATURE_TABLE_NAME,\n",
    "        keys=[\"239\", \"265\"],\n",
    "        feature_names=materialized_feature_names,\n",
    "    )\n",
    "    materialized_feature_values"
   ]
  },
  {
   "cell_type": "markdown",
   "metadata": {},
   "source": [
    "## Clean up the output of the notebook"
   ]
  },
  {
   "cell_type": "code",
   "execution_count": null,
   "metadata": {},
   "outputs": [],
   "source": [
    "import shutil\n",
    "shutil.rmtree('debug')"
   ]
  }
 ],
 "metadata": {
  "kernelspec": {
   "display_name": "Python 3 (ipykernel)",
   "language": "python",
   "name": "python3"
  },
  "language_info": {
   "codemirror_mode": {
    "name": "ipython",
    "version": 3
   },
   "file_extension": ".py",
   "mimetype": "text/x-python",
   "name": "python",
   "nbconvert_exporter": "python",
   "pygments_lexer": "ipython3",
   "version": "3.8.16"
  },
  "vscode": {
   "interpreter": {
    "hash": "c5d1b88564ea095927319e95d120a01ba9530a1c584720276480e541fd6461c7"
   }
  }
 },
 "nbformat": 4,
 "nbformat_minor": 4
}
